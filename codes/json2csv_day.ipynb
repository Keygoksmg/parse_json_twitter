{
 "cells": [
  {
   "cell_type": "code",
   "execution_count": 2,
   "metadata": {},
   "outputs": [],
   "source": [
    "import csv\n",
    "from datetime import datetime\n",
    "import numpy as np\n",
    "import pandas as pd\n",
    "import time \n",
    "from datetime import datetime\n",
    "import os\n",
    "from os import path\n",
    "\n",
    "import ijson"
   ]
  },
  {
   "cell_type": "markdown",
   "metadata": {},
   "source": [
    "## Import JSON "
   ]
  },
  {
   "cell_type": "code",
   "execution_count": 3,
   "metadata": {},
   "outputs": [
    {
     "name": "stdout",
     "output_type": "stream",
     "text": [
      "elapsed_time:1083.1176714897156[sec]\n"
     ]
    }
   ],
   "source": [
    "# Dates\n",
    "start = time.time()\n",
    "\n",
    "data = ijson.parse(open('../data/part_v003_o001_r_00000.json', 'r'), multiple_values=True)\n",
    "dates = [datetime.strptime(value, '%a %b %d %H:%M:%S +0000 %Y') for prefix, event, value in data if prefix == 'created_at']\n",
    "\n",
    "print (\"elapsed_time:{0}\".format(time.time() - start) + \"[sec]\")"
   ]
  },
  {
   "cell_type": "code",
   "execution_count": 4,
   "metadata": {},
   "outputs": [
    {
     "name": "stdout",
     "output_type": "stream",
     "text": [
      "elapsed_time:1233.47380900383[sec]\n"
     ]
    }
   ],
   "source": [
    "# Tweets\n",
    "start = time.time()\n",
    "data = ijson.parse(open('../data/part_v003_o001_r_00000.json', 'r'), multiple_values=True)\n",
    "tweets = [value for prefix, event, value in data if prefix == 'text']\n",
    "\n",
    "print (\"elapsed_time:{0}\".format(time.time() - start) + \"[sec]\")"
   ]
  },
  {
   "cell_type": "markdown",
   "metadata": {},
   "source": [
    "## Check the date of dates and tweets"
   ]
  },
  {
   "cell_type": "code",
   "execution_count": 21,
   "metadata": {},
   "outputs": [
    {
     "name": "stdout",
     "output_type": "stream",
     "text": [
      "True\n"
     ]
    }
   ],
   "source": [
    "print(len(dates) == len(tweets))"
   ]
  },
  {
   "cell_type": "markdown",
   "metadata": {},
   "source": [
    "## Make Dataframe from json data"
   ]
  },
  {
   "cell_type": "code",
   "execution_count": 5,
   "metadata": {},
   "outputs": [],
   "source": [
    "datescopy, twt = dates.copy(), tweets.copy()\n",
    "# date, twt = l_date[:100], l_text[:100]"
   ]
  },
  {
   "cell_type": "code",
   "execution_count": 7,
   "metadata": {},
   "outputs": [],
   "source": [
    "data = np.vstack([datescopy, twt]).T\n",
    "\n",
    "df = pd.DataFrame(data, columns=['date', 'tweet'])\n",
    "df['year'] = df['date'].dt.year\n",
    "df['month'] = df['date'].dt.month\n",
    "df['day'] = df['date'].dt.day\n",
    "df['hour'] = df['date'].dt.hour\n",
    "df['date'] = df['date'].dt.date\n",
    "\n",
    "# RT_flag: True if tweet containt 'RT', otherwise False\n",
    "df['RT_flag'] = df['tweet'].str.contains('RT')\n",
    "\n",
    "# df\n",
    "\n",
    "# divide df into one with and without RT\n",
    "dfrt = df[df['RT_flag'] == True]\n",
    "dfor = df[df['RT_flag'] == False]"
   ]
  },
  {
   "cell_type": "markdown",
   "metadata": {},
   "source": [
    "## Connect all JSON data for the future work"
   ]
  },
  {
   "cell_type": "code",
   "execution_count": 129,
   "metadata": {
    "collapsed": true,
    "jupyter": {
     "outputs_hidden": true
    }
   },
   "outputs": [
    {
     "ename": "IndentationError",
     "evalue": "expected an indented block (<ipython-input-129-6662b3f87dbc>, line 4)",
     "output_type": "error",
     "traceback": [
      "\u001b[0;36m  File \u001b[0;32m\"<ipython-input-129-6662b3f87dbc>\"\u001b[0;36m, line \u001b[0;32m4\u001b[0m\n\u001b[0;31m    def makedf(dates, tweets):\u001b[0m\n\u001b[0m      ^\u001b[0m\n\u001b[0;31mIndentationError\u001b[0m\u001b[0;31m:\u001b[0m expected an indented block\n"
     ]
    }
   ],
   "source": [
    "# jsons = ['part_v003_o001_r_00000.json',..., 'part_v003_o001_r_00000.json']\n",
    "# def load(jsonfile):\n",
    "#     return dates, tweets\n",
    "\n",
    "# def makedf(dates, tweets):\n",
    "#     return dfrt, dfor\n",
    "\n",
    "# for json in jsons:\n",
    "#     dates, tweets = load(json)\n",
    "#     dfrt, dfor = makedf(dates, tweets)\n",
    "#     dfrt, dfor = pd.concat([df1, df2], axis= 1)"
   ]
  },
  {
   "cell_type": "markdown",
   "metadata": {},
   "source": [
    "## Use Dataframe withour RT"
   ]
  },
  {
   "cell_type": "code",
   "execution_count": 101,
   "metadata": {},
   "outputs": [
    {
     "data": {
      "text/plain": [
       "False"
      ]
     },
     "execution_count": 101,
     "metadata": {},
     "output_type": "execute_result"
    }
   ],
   "source": [
    "# check dataframe's nan value\n",
    "dfor.isnull().values.any() # FalseならOK"
   ]
  },
  {
   "cell_type": "markdown",
   "metadata": {},
   "source": [
    "## Read keywords csv file"
   ]
  },
  {
   "cell_type": "code",
   "execution_count": 8,
   "metadata": {},
   "outputs": [
    {
     "data": {
      "text/plain": [
       "Index(['types', 'file_name', 'orignal_form', 'English_translation'], dtype='object')"
      ]
     },
     "execution_count": 8,
     "metadata": {},
     "output_type": "execute_result"
    }
   ],
   "source": [
    "dfw = pd.read_csv('../data/WordTimeSeries.csv', encoding='utf-8').rename(columns={'Unnamed: 0': 'types',\n",
    "                                                                                    'file name': 'file_name', \n",
    "                                                                                    'orignal form': 'orignal_form',\n",
    "                                                                                    'English translation': 'English_translation'})\n",
    "dfw.columns"
   ]
  },
  {
   "cell_type": "markdown",
   "metadata": {},
   "source": [
    "### This time we use 'C' types wrods as an example"
   ]
  },
  {
   "cell_type": "code",
   "execution_count": 18,
   "metadata": {},
   "outputs": [],
   "source": [
    "filetypes = ['T', 'D', 'A', 'V', 'F', 'C']\n",
    "xd = {}\n",
    "xd['T'] = 'file_name.str.contains(\"T\")'\n",
    "xd['D'] = 'file_name.str.contains(\"D\")'\n",
    "xd['A'] = 'file_name.str.contains(\"A\")'\n",
    "xd['V'] = 'file_name.str.contains(\"V\")'\n",
    "xd['F'] = 'file_name.str.contains(\"F\")'\n",
    "xd['C'] = 'file_name.str.contains(\"C\")'\n"
   ]
  },
  {
   "cell_type": "code",
   "execution_count": 21,
   "metadata": {},
   "outputs": [
    {
     "data": {
      "text/plain": [
       "'file_name.str.contains(\"T\")'"
      ]
     },
     "execution_count": 21,
     "metadata": {},
     "output_type": "execute_result"
    }
   ],
   "source": [
    "xd[filetypes[0]]"
   ]
  },
  {
   "cell_type": "code",
   "execution_count": null,
   "metadata": {},
   "outputs": [],
   "source": []
  },
  {
   "cell_type": "code",
   "execution_count": 22,
   "metadata": {},
   "outputs": [
    {
     "name": "stdout",
     "output_type": "stream",
     "text": [
      "types: {nan, '#Confusion', '#Depression', '#Vigor', '#Anger', '#Fatigue', '#Tension'}\n"
     ]
    },
    {
     "data": {
      "text/plain": [
       "'\\ndfw_x:  dfw_t = dfw.query(\\'file_name.str.contains(\"T\")\\', engine=\\'python\\')\\n        dfw_d = dfw.query(\\'file_name.str.contains(\"D\")\\', engine=\\'python\\')\\n        dfw_a = dfw.query(\\'file_name.str.contains(\"A\")\\', engine=\\'python\\')\\n        dfw_v = dfw.query(\\'file_name.str.contains(\"V\")\\', engine=\\'python\\')\\n        dfw_f = dfw.query(\\'file_name.str.contains(\"F\")\\', engine=\\'python\\')\\n        dfw_c = dfw.query(\\'file_name.str.contains(\"C\")\\', engine=\\'python\\')\\n'"
      ]
     },
     "execution_count": 22,
     "metadata": {},
     "output_type": "execute_result"
    }
   ],
   "source": [
    "'''\n",
    "filetypes: words' meta kind\n",
    "filenames: columns correspended to keyword e.g. ['C1', 'C2',..'C35'] \n",
    "words_x: words dataframe of x(= C,D,...)\n",
    "'''\n",
    "# Drop nan and False in order to use query \n",
    "booleanDictionary = {True: 'TRUE', False: 'FALSE'}\n",
    "dfw = dfw.replace(booleanDictionary)\n",
    "dfw = dfw.dropna(how='all')\n",
    "\n",
    "filetypes = ['T', 'D', 'A', 'V', 'F', 'C']\n",
    "filetype = 'C'\n",
    "filenames = [filename for filename in dfw.file_name.tolist() if filetype in filename]\n",
    "a = 'file_name.str.contains(\"C\")'\n",
    "dfw_c = dfw.query(xd['T'], engine='python')\n",
    "print('types:',set(dfw.types.tolist()))\n",
    "\n",
    "'''\n",
    "dfw_x:  dfw_t = dfw.query('file_name.str.contains(\"T\")', engine='python')\n",
    "        dfw_d = dfw.query('file_name.str.contains(\"D\")', engine='python')\n",
    "        dfw_a = dfw.query('file_name.str.contains(\"A\")', engine='python')\n",
    "        dfw_v = dfw.query('file_name.str.contains(\"V\")', engine='python')\n",
    "        dfw_f = dfw.query('file_name.str.contains(\"F\")', engine='python')\n",
    "        dfw_c = dfw.query('file_name.str.contains(\"C\")', engine='python')\n",
    "'''"
   ]
  },
  {
   "cell_type": "markdown",
   "metadata": {},
   "source": [
    "## Find tweets which conatins keywords using dfor and words"
   ]
  },
  {
   "cell_type": "code",
   "execution_count": 105,
   "metadata": {
    "collapsed": true,
    "jupyter": {
     "outputs_hidden": true
    }
   },
   "outputs": [
    {
     "data": {
      "text/html": [
       "<div>\n",
       "<style scoped>\n",
       "    .dataframe tbody tr th:only-of-type {\n",
       "        vertical-align: middle;\n",
       "    }\n",
       "\n",
       "    .dataframe tbody tr th {\n",
       "        vertical-align: top;\n",
       "    }\n",
       "\n",
       "    .dataframe thead th {\n",
       "        text-align: right;\n",
       "    }\n",
       "</style>\n",
       "<table border=\"1\" class=\"dataframe\">\n",
       "  <thead>\n",
       "    <tr style=\"text-align: right;\">\n",
       "      <th></th>\n",
       "      <th>date</th>\n",
       "      <th>tweet</th>\n",
       "      <th>year</th>\n",
       "      <th>month</th>\n",
       "      <th>day</th>\n",
       "      <th>hour</th>\n",
       "      <th>RT_flag</th>\n",
       "    </tr>\n",
       "  </thead>\n",
       "  <tbody>\n",
       "    <tr>\n",
       "      <th>1</th>\n",
       "      <td>2020-02-29</td>\n",
       "      <td>今夜は久しぶりに \\nお月様を見れましたが、\\n少し雲がかかって\\nボンヤリ月でした\\n☁🌛...</td>\n",
       "      <td>2020</td>\n",
       "      <td>2</td>\n",
       "      <td>29</td>\n",
       "      <td>14</td>\n",
       "      <td>False</td>\n",
       "    </tr>\n",
       "    <tr>\n",
       "      <th>3</th>\n",
       "      <td>2020-02-29</td>\n",
       "      <td>不二先輩の誕生日で言いたいことたくさんあるけど、上手くまとまらないね😭😭</td>\n",
       "      <td>2020</td>\n",
       "      <td>2</td>\n",
       "      <td>29</td>\n",
       "      <td>14</td>\n",
       "      <td>False</td>\n",
       "    </tr>\n",
       "    <tr>\n",
       "      <th>106</th>\n",
       "      <td>2020-02-29</td>\n",
       "      <td>10ヶ月の間ほんとにお世話になりました&amp;lt;(_ _)&amp;gt;   ミャーさんやごごさんの...</td>\n",
       "      <td>2020</td>\n",
       "      <td>2</td>\n",
       "      <td>29</td>\n",
       "      <td>14</td>\n",
       "      <td>False</td>\n",
       "    </tr>\n",
       "    <tr>\n",
       "      <th>124</th>\n",
       "      <td>2020-02-29</td>\n",
       "      <td>@k7ya ２のオープニングバトルは、全滅しないと先に進まないのですよー。\\n何かやりようが...</td>\n",
       "      <td>2020</td>\n",
       "      <td>2</td>\n",
       "      <td>29</td>\n",
       "      <td>14</td>\n",
       "      <td>False</td>\n",
       "    </tr>\n",
       "    <tr>\n",
       "      <th>133</th>\n",
       "      <td>2020-02-29</td>\n",
       "      <td>推しのソロを聞いた時に想った事をいつか言葉に出来たらって思うけど、語彙力無さすぎて全然まとま...</td>\n",
       "      <td>2020</td>\n",
       "      <td>2</td>\n",
       "      <td>29</td>\n",
       "      <td>14</td>\n",
       "      <td>False</td>\n",
       "    </tr>\n",
       "  </tbody>\n",
       "</table>\n",
       "</div>"
      ],
      "text/plain": [
       "           date                                              tweet  year  \\\n",
       "1    2020-02-29  今夜は久しぶりに \\nお月様を見れましたが、\\n少し雲がかかって\\nボンヤリ月でした\\n☁🌛...  2020   \n",
       "3    2020-02-29               不二先輩の誕生日で言いたいことたくさんあるけど、上手くまとまらないね😭😭  2020   \n",
       "106  2020-02-29  10ヶ月の間ほんとにお世話になりました&lt;(_ _)&gt;   ミャーさんやごごさんの...  2020   \n",
       "124  2020-02-29  @k7ya ２のオープニングバトルは、全滅しないと先に進まないのですよー。\\n何かやりようが...  2020   \n",
       "133  2020-02-29  推しのソロを聞いた時に想った事をいつか言葉に出来たらって思うけど、語彙力無さすぎて全然まとま...  2020   \n",
       "\n",
       "     month  day  hour  RT_flag  \n",
       "1        2   29    14    False  \n",
       "3        2   29    14    False  \n",
       "106      2   29    14    False  \n",
       "124      2   29    14    False  \n",
       "133      2   29    14    False  "
      ]
     },
     "execution_count": 105,
     "metadata": {},
     "output_type": "execute_result"
    }
   ],
   "source": [
    "keywords_jp = dfw_c.orignal_form.tolist()\n",
    "\n",
    "dfor_c = dfor[dfor['tweet'].str.contains('|'.join(keywords_jp))]\n",
    "dfor_c.head()\n",
    "\n",
    "''' You can find by English words using following codes instead\n",
    "keywords_en = dfw_c.English_translation.tolist()\n",
    "dfor_c = dfor[dfor['tweet'].str.contains('|'.join(keywords_jp))]\n",
    "'''"
   ]
  },
  {
   "cell_type": "markdown",
   "metadata": {},
   "source": [
    "## Add columns(['C1'], ['C2'],...) to dfor_c"
   ]
  },
  {
   "cell_type": "code",
   "execution_count": 106,
   "metadata": {},
   "outputs": [
    {
     "name": "stderr",
     "output_type": "stream",
     "text": [
      "/usr/local/lib/python3.6/dist-packages/ipykernel_launcher.py:14: SettingWithCopyWarning: \n",
      "A value is trying to be set on a copy of a slice from a DataFrame.\n",
      "Try using .loc[row_indexer,col_indexer] = value instead\n",
      "\n",
      "See the caveats in the documentation: https://pandas.pydata.org/pandas-docs/stable/user_guide/indexing.html#returning-a-view-versus-a-copy\n",
      "  \n"
     ]
    },
    {
     "name": "stdout",
     "output_type": "stream",
     "text": [
      "elapsed_time:31.51155686378479[sec]\n"
     ]
    }
   ],
   "source": [
    "'''\n",
    "keywords_jp: keyword exist in tweet\n",
    "filenames: columns correspended to keyword e.g. ['C1', 'C2',..'C35'] \n",
    "'''\n",
    "start = time.time()\n",
    "\n",
    "for col, key in zip(filenames, keywords_jp):\n",
    "    l = []\n",
    "    for row in dfor_c.itertuples():\n",
    "        if key in row.tweet:\n",
    "            l.append(1)\n",
    "        else:\n",
    "            l.append(0)\n",
    "    dfor_c[col] = l\n",
    "    \n",
    "print (\"elapsed_time:{0}\".format(time.time() - start) + \"[sec]\")\n",
    "\n",
    "# save to csv \n",
    "# df_c_query.to_csv('c.csv')\n",
    "\n",
    "# dfor_c.head()"
   ]
  },
  {
   "cell_type": "code",
   "execution_count": 107,
   "metadata": {
    "collapsed": true,
    "jupyter": {
     "outputs_hidden": true
    }
   },
   "outputs": [
    {
     "data": {
      "text/html": [
       "<div>\n",
       "<style scoped>\n",
       "    .dataframe tbody tr th:only-of-type {\n",
       "        vertical-align: middle;\n",
       "    }\n",
       "\n",
       "    .dataframe tbody tr th {\n",
       "        vertical-align: top;\n",
       "    }\n",
       "\n",
       "    .dataframe thead th {\n",
       "        text-align: right;\n",
       "    }\n",
       "</style>\n",
       "<table border=\"1\" class=\"dataframe\">\n",
       "  <thead>\n",
       "    <tr style=\"text-align: right;\">\n",
       "      <th></th>\n",
       "      <th>date</th>\n",
       "      <th>tweet</th>\n",
       "      <th>year</th>\n",
       "      <th>month</th>\n",
       "      <th>day</th>\n",
       "      <th>hour</th>\n",
       "      <th>RT_flag</th>\n",
       "      <th>C1</th>\n",
       "      <th>C2</th>\n",
       "      <th>C3</th>\n",
       "      <th>...</th>\n",
       "      <th>C26</th>\n",
       "      <th>C27</th>\n",
       "      <th>C28</th>\n",
       "      <th>C29</th>\n",
       "      <th>C30</th>\n",
       "      <th>C31</th>\n",
       "      <th>C32</th>\n",
       "      <th>C33</th>\n",
       "      <th>C34</th>\n",
       "      <th>C35</th>\n",
       "    </tr>\n",
       "  </thead>\n",
       "  <tbody>\n",
       "    <tr>\n",
       "      <th>1</th>\n",
       "      <td>2020-02-29</td>\n",
       "      <td>今夜は久しぶりに \\nお月様を見れましたが、\\n少し雲がかかって\\nボンヤリ月でした\\n☁🌛...</td>\n",
       "      <td>2020</td>\n",
       "      <td>2</td>\n",
       "      <td>29</td>\n",
       "      <td>14</td>\n",
       "      <td>False</td>\n",
       "      <td>0</td>\n",
       "      <td>0</td>\n",
       "      <td>0</td>\n",
       "      <td>...</td>\n",
       "      <td>0</td>\n",
       "      <td>0</td>\n",
       "      <td>0</td>\n",
       "      <td>0</td>\n",
       "      <td>0</td>\n",
       "      <td>0</td>\n",
       "      <td>0</td>\n",
       "      <td>0</td>\n",
       "      <td>0</td>\n",
       "      <td>0</td>\n",
       "    </tr>\n",
       "    <tr>\n",
       "      <th>3</th>\n",
       "      <td>2020-02-29</td>\n",
       "      <td>不二先輩の誕生日で言いたいことたくさんあるけど、上手くまとまらないね😭😭</td>\n",
       "      <td>2020</td>\n",
       "      <td>2</td>\n",
       "      <td>29</td>\n",
       "      <td>14</td>\n",
       "      <td>False</td>\n",
       "      <td>0</td>\n",
       "      <td>0</td>\n",
       "      <td>0</td>\n",
       "      <td>...</td>\n",
       "      <td>0</td>\n",
       "      <td>0</td>\n",
       "      <td>0</td>\n",
       "      <td>0</td>\n",
       "      <td>0</td>\n",
       "      <td>0</td>\n",
       "      <td>0</td>\n",
       "      <td>0</td>\n",
       "      <td>0</td>\n",
       "      <td>0</td>\n",
       "    </tr>\n",
       "    <tr>\n",
       "      <th>106</th>\n",
       "      <td>2020-02-29</td>\n",
       "      <td>10ヶ月の間ほんとにお世話になりました&amp;lt;(_ _)&amp;gt;   ミャーさんやごごさんの...</td>\n",
       "      <td>2020</td>\n",
       "      <td>2</td>\n",
       "      <td>29</td>\n",
       "      <td>14</td>\n",
       "      <td>False</td>\n",
       "      <td>0</td>\n",
       "      <td>0</td>\n",
       "      <td>0</td>\n",
       "      <td>...</td>\n",
       "      <td>0</td>\n",
       "      <td>0</td>\n",
       "      <td>0</td>\n",
       "      <td>0</td>\n",
       "      <td>0</td>\n",
       "      <td>0</td>\n",
       "      <td>0</td>\n",
       "      <td>0</td>\n",
       "      <td>0</td>\n",
       "      <td>0</td>\n",
       "    </tr>\n",
       "    <tr>\n",
       "      <th>124</th>\n",
       "      <td>2020-02-29</td>\n",
       "      <td>@k7ya ２のオープニングバトルは、全滅しないと先に進まないのですよー。\\n何かやりようが...</td>\n",
       "      <td>2020</td>\n",
       "      <td>2</td>\n",
       "      <td>29</td>\n",
       "      <td>14</td>\n",
       "      <td>False</td>\n",
       "      <td>0</td>\n",
       "      <td>0</td>\n",
       "      <td>0</td>\n",
       "      <td>...</td>\n",
       "      <td>0</td>\n",
       "      <td>0</td>\n",
       "      <td>0</td>\n",
       "      <td>0</td>\n",
       "      <td>0</td>\n",
       "      <td>0</td>\n",
       "      <td>0</td>\n",
       "      <td>0</td>\n",
       "      <td>0</td>\n",
       "      <td>0</td>\n",
       "    </tr>\n",
       "    <tr>\n",
       "      <th>133</th>\n",
       "      <td>2020-02-29</td>\n",
       "      <td>推しのソロを聞いた時に想った事をいつか言葉に出来たらって思うけど、語彙力無さすぎて全然まとま...</td>\n",
       "      <td>2020</td>\n",
       "      <td>2</td>\n",
       "      <td>29</td>\n",
       "      <td>14</td>\n",
       "      <td>False</td>\n",
       "      <td>0</td>\n",
       "      <td>0</td>\n",
       "      <td>0</td>\n",
       "      <td>...</td>\n",
       "      <td>0</td>\n",
       "      <td>0</td>\n",
       "      <td>0</td>\n",
       "      <td>0</td>\n",
       "      <td>0</td>\n",
       "      <td>0</td>\n",
       "      <td>0</td>\n",
       "      <td>0</td>\n",
       "      <td>0</td>\n",
       "      <td>0</td>\n",
       "    </tr>\n",
       "  </tbody>\n",
       "</table>\n",
       "<p>5 rows × 42 columns</p>\n",
       "</div>"
      ],
      "text/plain": [
       "           date                                              tweet  year  \\\n",
       "1    2020-02-29  今夜は久しぶりに \\nお月様を見れましたが、\\n少し雲がかかって\\nボンヤリ月でした\\n☁🌛...  2020   \n",
       "3    2020-02-29               不二先輩の誕生日で言いたいことたくさんあるけど、上手くまとまらないね😭😭  2020   \n",
       "106  2020-02-29  10ヶ月の間ほんとにお世話になりました&lt;(_ _)&gt;   ミャーさんやごごさんの...  2020   \n",
       "124  2020-02-29  @k7ya ２のオープニングバトルは、全滅しないと先に進まないのですよー。\\n何かやりようが...  2020   \n",
       "133  2020-02-29  推しのソロを聞いた時に想った事をいつか言葉に出来たらって思うけど、語彙力無さすぎて全然まとま...  2020   \n",
       "\n",
       "     month  day  hour  RT_flag  C1  C2  C3  ...  C26  C27  C28  C29  C30  C31  \\\n",
       "1        2   29    14    False   0   0   0  ...    0    0    0    0    0    0   \n",
       "3        2   29    14    False   0   0   0  ...    0    0    0    0    0    0   \n",
       "106      2   29    14    False   0   0   0  ...    0    0    0    0    0    0   \n",
       "124      2   29    14    False   0   0   0  ...    0    0    0    0    0    0   \n",
       "133      2   29    14    False   0   0   0  ...    0    0    0    0    0    0   \n",
       "\n",
       "     C32  C33  C34  C35  \n",
       "1      0    0    0    0  \n",
       "3      0    0    0    0  \n",
       "106    0    0    0    0  \n",
       "124    0    0    0    0  \n",
       "133    0    0    0    0  \n",
       "\n",
       "[5 rows x 42 columns]"
      ]
     },
     "execution_count": 107,
     "metadata": {},
     "output_type": "execute_result"
    }
   ],
   "source": [
    "# dfor_c.head()"
   ]
  },
  {
   "cell_type": "markdown",
   "metadata": {
    "jupyter": {
     "outputs_hidden": true
    }
   },
   "source": [
    "## Group by date & make rows (dict)"
   ]
  },
  {
   "cell_type": "code",
   "execution_count": 108,
   "metadata": {},
   "outputs": [],
   "source": [
    "uni_dates = dfor_c['date'].tolist()\n",
    "uni_dates = sorted(set(uni_dates), key=uni_dates.index)"
   ]
  },
  {
   "cell_type": "code",
   "execution_count": 109,
   "metadata": {},
   "outputs": [],
   "source": [
    "rows = []\n",
    "for date in uni_dates:\n",
    "    d = {}\n",
    "    d['date'] = str(date)\n",
    "    for col in filenames:\n",
    "        _df = dfor_c.groupby('date').get_group(date)\n",
    "        d[col] = _df[col].sum()\n",
    "    rows.append(d)"
   ]
  },
  {
   "cell_type": "markdown",
   "metadata": {},
   "source": [
    "## Make dataframes of each word types and add rows"
   ]
  },
  {
   "cell_type": "code",
   "execution_count": 110,
   "metadata": {},
   "outputs": [],
   "source": [
    "cols = filenames.copy()\n",
    "cols.insert(0, 'date')"
   ]
  },
  {
   "cell_type": "code",
   "execution_count": 135,
   "metadata": {},
   "outputs": [],
   "source": [
    "dft = pd.DataFrame(columns=cols)\n",
    "for row in rows:\n",
    "    dft = dft.append(row, ignore_index=True)\n",
    "\n",
    "# dft"
   ]
  },
  {
   "cell_type": "code",
   "execution_count": 123,
   "metadata": {},
   "outputs": [],
   "source": [
    "# save to csv\n",
    "# outname = 'c_original.csv'\n",
    "# outdir = '../results/jp/day'\n",
    "\n",
    "# if not os.path.exists(outdir):\n",
    "#         os.makedirs(outdir)\n",
    "    \n",
    "# fullname = os.path.join(outdir, outname)    \n",
    "\n",
    "# dft.to_csv(fullname)"
   ]
  },
  {
   "cell_type": "markdown",
   "metadata": {},
   "source": [
    "## FINISH "
   ]
  },
  {
   "cell_type": "markdown",
   "metadata": {},
   "source": [
    "### 以下のコードは、あるfiletypeに関する20のjsonfileから得られるDataFrame(csv)の結果を一つにまとめる物です"
   ]
  },
  {
   "cell_type": "code",
   "execution_count": 172,
   "metadata": {},
   "outputs": [],
   "source": [
    "dfs = [df1, df2, df3, ..., df20]\n",
    "for i, df in enumerate(dfs):\n",
    "    if i == 0:\n",
    "        dfnew = df\n",
    "    else:\n",
    "        dfnew = pd.concat([dfnew, df], axis=0)"
   ]
  },
  {
   "cell_type": "code",
   "execution_count": 170,
   "metadata": {},
   "outputs": [],
   "source": [
    "df1 = dft[:1]\n",
    "df2 = dft[:1]\n",
    "df3 = dft[2:3]\n"
   ]
  },
  {
   "cell_type": "code",
   "execution_count": 173,
   "metadata": {},
   "outputs": [
    {
     "data": {
      "text/html": [
       "<div>\n",
       "<style scoped>\n",
       "    .dataframe tbody tr th:only-of-type {\n",
       "        vertical-align: middle;\n",
       "    }\n",
       "\n",
       "    .dataframe tbody tr th {\n",
       "        vertical-align: top;\n",
       "    }\n",
       "\n",
       "    .dataframe thead th {\n",
       "        text-align: right;\n",
       "    }\n",
       "</style>\n",
       "<table border=\"1\" class=\"dataframe\">\n",
       "  <thead>\n",
       "    <tr style=\"text-align: right;\">\n",
       "      <th></th>\n",
       "      <th>date</th>\n",
       "      <th>C1</th>\n",
       "      <th>C2</th>\n",
       "      <th>C3</th>\n",
       "      <th>C4</th>\n",
       "      <th>C5</th>\n",
       "      <th>C6</th>\n",
       "      <th>C7</th>\n",
       "      <th>C8</th>\n",
       "      <th>C9</th>\n",
       "      <th>...</th>\n",
       "      <th>C26</th>\n",
       "      <th>C27</th>\n",
       "      <th>C28</th>\n",
       "      <th>C29</th>\n",
       "      <th>C30</th>\n",
       "      <th>C31</th>\n",
       "      <th>C32</th>\n",
       "      <th>C33</th>\n",
       "      <th>C34</th>\n",
       "      <th>C35</th>\n",
       "    </tr>\n",
       "  </thead>\n",
       "  <tbody>\n",
       "    <tr>\n",
       "      <th>0</th>\n",
       "      <td>2020-02-29</td>\n",
       "      <td>1980</td>\n",
       "      <td>2624</td>\n",
       "      <td>1253</td>\n",
       "      <td>522</td>\n",
       "      <td>1118</td>\n",
       "      <td>1090</td>\n",
       "      <td>984</td>\n",
       "      <td>446</td>\n",
       "      <td>745</td>\n",
       "      <td>...</td>\n",
       "      <td>1266</td>\n",
       "      <td>430</td>\n",
       "      <td>729</td>\n",
       "      <td>321</td>\n",
       "      <td>151</td>\n",
       "      <td>53</td>\n",
       "      <td>105</td>\n",
       "      <td>166</td>\n",
       "      <td>235</td>\n",
       "      <td>261</td>\n",
       "    </tr>\n",
       "    <tr>\n",
       "      <th>0</th>\n",
       "      <td>2020-02-29</td>\n",
       "      <td>1980</td>\n",
       "      <td>2624</td>\n",
       "      <td>1253</td>\n",
       "      <td>522</td>\n",
       "      <td>1118</td>\n",
       "      <td>1090</td>\n",
       "      <td>984</td>\n",
       "      <td>446</td>\n",
       "      <td>745</td>\n",
       "      <td>...</td>\n",
       "      <td>1266</td>\n",
       "      <td>430</td>\n",
       "      <td>729</td>\n",
       "      <td>321</td>\n",
       "      <td>151</td>\n",
       "      <td>53</td>\n",
       "      <td>105</td>\n",
       "      <td>166</td>\n",
       "      <td>235</td>\n",
       "      <td>261</td>\n",
       "    </tr>\n",
       "    <tr>\n",
       "      <th>2</th>\n",
       "      <td>2020-02-27</td>\n",
       "      <td>2504</td>\n",
       "      <td>3018</td>\n",
       "      <td>1163</td>\n",
       "      <td>790</td>\n",
       "      <td>1326</td>\n",
       "      <td>1586</td>\n",
       "      <td>1234</td>\n",
       "      <td>592</td>\n",
       "      <td>1062</td>\n",
       "      <td>...</td>\n",
       "      <td>1701</td>\n",
       "      <td>1026</td>\n",
       "      <td>858</td>\n",
       "      <td>369</td>\n",
       "      <td>218</td>\n",
       "      <td>74</td>\n",
       "      <td>148</td>\n",
       "      <td>239</td>\n",
       "      <td>288</td>\n",
       "      <td>342</td>\n",
       "    </tr>\n",
       "  </tbody>\n",
       "</table>\n",
       "<p>3 rows × 36 columns</p>\n",
       "</div>"
      ],
      "text/plain": [
       "         date    C1    C2    C3   C4    C5    C6    C7   C8    C9  ...   C26  \\\n",
       "0  2020-02-29  1980  2624  1253  522  1118  1090   984  446   745  ...  1266   \n",
       "0  2020-02-29  1980  2624  1253  522  1118  1090   984  446   745  ...  1266   \n",
       "2  2020-02-27  2504  3018  1163  790  1326  1586  1234  592  1062  ...  1701   \n",
       "\n",
       "    C27  C28  C29  C30 C31  C32  C33  C34  C35  \n",
       "0   430  729  321  151  53  105  166  235  261  \n",
       "0   430  729  321  151  53  105  166  235  261  \n",
       "2  1026  858  369  218  74  148  239  288  342  \n",
       "\n",
       "[3 rows x 36 columns]"
      ]
     },
     "execution_count": 173,
     "metadata": {},
     "output_type": "execute_result"
    }
   ],
   "source": [
    "dfnew"
   ]
  },
  {
   "cell_type": "code",
   "execution_count": null,
   "metadata": {},
   "outputs": [],
   "source": []
  }
 ],
 "metadata": {
  "kernelspec": {
   "display_name": "Python 3",
   "language": "python",
   "name": "python3"
  },
  "language_info": {
   "codemirror_mode": {
    "name": "ipython",
    "version": 3
   },
   "file_extension": ".py",
   "mimetype": "text/x-python",
   "name": "python",
   "nbconvert_exporter": "python",
   "pygments_lexer": "ipython3",
   "version": "3.6.9"
  },
  "pycharm": {
   "stem_cell": {
    "cell_type": "raw",
    "source": [],
    "metadata": {
     "collapsed": false
    }
   }
  }
 },
 "nbformat": 4,
 "nbformat_minor": 4
}