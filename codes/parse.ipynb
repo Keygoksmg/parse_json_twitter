{
 "cells": [
  {
   "cell_type": "code",
   "execution_count": null,
   "metadata": {},
   "outputs": [],
   "source": [
    "import csv\n",
    "import ijson\n",
    "from datetime import datetime\n",
    "import numpy as np\n",
    "import pandas as pd\n"
   ]
  },
  {
   "cell_type": "markdown",
   "metadata": {},
   "source": [
    "## import data"
   ]
  },
  {
   "cell_type": "code",
   "execution_count": null,
   "metadata": {},
   "outputs": [],
   "source": [
    "with open('data/part_v003_o001_r_00000.json', 'r') as file:\n",
    "    pet_like = ijson.items(file, 'text', multiple_values=True)\n",
    "    for value in pet_like:\n",
    "        print(value)"
   ]
  },
  {
   "cell_type": "code",
   "execution_count": 25,
   "metadata": {},
   "outputs": [
    {
     "name": "stdout",
     "output_type": "stream",
     "text": [
      "2020-02-29 14:57:32\n"
     ]
    }
   ],
   "source": [
    "from datetime import datetime\n",
    "date_dt1 = datetime.strptime(date_dt, '%a %b %d %H:%M:%S +0000 %Y')\n",
    "print(date_dt1)"
   ]
  },
  {
   "cell_type": "code",
   "execution_count": 59,
   "metadata": {},
   "outputs": [
    {
     "name": "stdout",
     "output_type": "stream",
     "text": [
      "elapsed_time:1077.0222840309143[sec]\n"
     ]
    }
   ],
   "source": [
    "# extract 'dates'\n",
    "start = time.time()\n",
    "data = ijson.parse(open('../data/part_v003_o001_r_00000.json', 'r'), multiple_values=True)\n",
    "\n",
    "l_date = [datetime.strptime(value, '%a %b %d %H:%M:%S +0000 %Y') for prefix, event, value in data if prefix == 'created_at']\n",
    "\n",
    "print (\"elapsed_time:{0}\".format(time.time() - start) + \"[sec]\")\n",
    "slack_notify()"
   ]
  },
  {
   "cell_type": "code",
   "execution_count": 36,
   "metadata": {},
   "outputs": [
    {
     "name": "stdout",
     "output_type": "stream",
     "text": [
      "elapsed_time:1124.0678129196167[sec]\n"
     ]
    }
   ],
   "source": [
    "# extract 'tweets'\n",
    "start = time.time()\n",
    "data = ijson.parse(open('../data/part_v003_o001_r_00000.json', 'r'), multiple_values=True)\n",
    "\n",
    "l_text = [datetime.strptime(value, '%a %b %d %H:%M:%S +0000 %Y') for prefix, event, value in data if prefix == 'created_at']\n",
    "\n",
    "print (\"elapsed_time:{0}\".format(time.time() - start) + \"[sec]\")\n"
   ]
  },
  {
   "cell_type": "code",
   "execution_count": 60,
   "metadata": {},
   "outputs": [
    {
     "name": "stdout",
     "output_type": "stream",
     "text": [
      "2057685 2057685\n"
     ]
    }
   ],
   "source": [
    "print(len(l_date) == len(l_text))"
   ]
  },
  {
   "cell_type": "markdown",
   "metadata": {},
   "source": [
    "## test "
   ]
  },
  {
   "cell_type": "code",
   "execution_count": 65,
   "metadata": {},
   "outputs": [],
   "source": [
    "date, twt = l_date[:100], l_text[:100]"
   ]
  },
  {
   "cell_type": "code",
   "execution_count": 66,
   "metadata": {},
   "outputs": [],
   "source": [
    "a = np.vstack([date, twt]).T"
   ]
  },
  {
   "cell_type": "code",
   "execution_count": 268,
   "metadata": {},
   "outputs": [],
   "source": [
    "df = pd.DataFrame(a,columns=['date', 'tweet'])\n",
    "\n",
    "df['year'] = df['date'].dt.year\n",
    "df['month'] = df['date'].dt.month\n",
    "df['day'] = df['date'].dt.day\n",
    "df['hour'] = df['date'].dt.hour\n",
    "# RT_flag: True if tweet containt 'RT', otherwise False\n",
    "df['RT_flag'] = df['tweet'].str.contains('RT')\n",
    "\n",
    "# df"
   ]
  },
  {
   "cell_type": "code",
   "execution_count": 269,
   "metadata": {},
   "outputs": [],
   "source": [
    "# divide df into one with and without RT\n",
    "dfrt = df[df['RT_flag'] == True]\n",
    "dfor = df[df['RT_flag'] == False]"
   ]
  },
  {
   "cell_type": "code",
   "execution_count": 270,
   "metadata": {
    "jupyter": {
     "source_hidden": true
    }
   },
   "outputs": [],
   "source": [
    "# # info of dataframe\n",
    "# print(dfor.info(), 'length', len(dfor))\n",
    "# print('           ')\n",
    "# print(dfrt.info(), 'length', len(dfrt))"
   ]
  },
  {
   "cell_type": "code",
   "execution_count": 271,
   "metadata": {
    "jupyter": {
     "source_hidden": true
    }
   },
   "outputs": [],
   "source": [
    "# # save to csv\n",
    "# dfrt.to_csv('../dfs/df_rt_100.csv', index=False)\n",
    "# dfor.to_csv('../dfs/df_or_100.csv', index=False)\n",
    "# dfrt.to_csv('../dfs/df_100.csv', index=False)"
   ]
  },
  {
   "cell_type": "markdown",
   "metadata": {},
   "source": [
    "## Use dfor(DataFrame without RT) as a default "
   ]
  },
  {
   "cell_type": "code",
   "execution_count": 344,
   "metadata": {},
   "outputs": [
    {
     "data": {
      "text/plain": [
       "False"
      ]
     },
     "execution_count": 344,
     "metadata": {},
     "output_type": "execute_result"
    }
   ],
   "source": [
    "# check dataframe's nan value\n",
    "dfor.isnull().values.any()"
   ]
  },
  {
   "cell_type": "code",
   "execution_count": 343,
   "metadata": {},
   "outputs": [
    {
     "data": {
      "text/plain": [
       "Index(['types', 'file_name', 'orignal_form', 'English_translation'], dtype='object')"
      ]
     },
     "execution_count": 343,
     "metadata": {},
     "output_type": "execute_result"
    }
   ],
   "source": [
    "words = pd.read_csv('../data/WordTimeSeries.csv', encoding='utf-8').rename(columns={'Unnamed: 0': 'types',\n",
    "                                                                                    'file name': 'file_name', \n",
    "                                                                                    'orignal form': 'orignal_form',\n",
    "                                                                                    'English translation': 'English_translation'})\n",
    "words.columns"
   ]
  },
  {
   "cell_type": "code",
   "execution_count": 351,
   "metadata": {},
   "outputs": [
    {
     "name": "stdout",
     "output_type": "stream",
     "text": [
      "words types: {nan, '#Fatigue', '#Depression', '#Vigor', '#Tension', '#Confusion', '#Anger'}\n"
     ]
    }
   ],
   "source": [
    "print('words types:',set(words.types.tolist()))\n",
    "filetypes = ['T', 'D', 'A', 'V', 'F', 'C']"
   ]
  },
  {
   "cell_type": "markdown",
   "metadata": {},
   "source": [
    "## DataFrame of each filetypes"
   ]
  },
  {
   "cell_type": "code",
   "execution_count": 422,
   "metadata": {},
   "outputs": [
    {
     "data": {
      "text/html": [
       "<div>\n",
       "<style scoped>\n",
       "    .dataframe tbody tr th:only-of-type {\n",
       "        vertical-align: middle;\n",
       "    }\n",
       "\n",
       "    .dataframe tbody tr th {\n",
       "        vertical-align: top;\n",
       "    }\n",
       "\n",
       "    .dataframe thead th {\n",
       "        text-align: right;\n",
       "    }\n",
       "</style>\n",
       "<table border=\"1\" class=\"dataframe\">\n",
       "  <thead>\n",
       "    <tr style=\"text-align: right;\">\n",
       "      <th></th>\n",
       "      <th>types</th>\n",
       "      <th>file_name</th>\n",
       "      <th>orignal_form</th>\n",
       "      <th>English_translation</th>\n",
       "    </tr>\n",
       "  </thead>\n",
       "  <tbody>\n",
       "    <tr>\n",
       "      <th>22</th>\n",
       "      <td>#Depression</td>\n",
       "      <td>D1</td>\n",
       "      <td>孤独</td>\n",
       "      <td>loneliness</td>\n",
       "    </tr>\n",
       "    <tr>\n",
       "      <th>23</th>\n",
       "      <td>NaN</td>\n",
       "      <td>D2</td>\n",
       "      <td>不幸だ</td>\n",
       "      <td>unhappy</td>\n",
       "    </tr>\n",
       "    <tr>\n",
       "      <th>24</th>\n",
       "      <td>NaN</td>\n",
       "      <td>D3</td>\n",
       "      <td>悲しく</td>\n",
       "      <td>sadly</td>\n",
       "    </tr>\n",
       "    <tr>\n",
       "      <th>25</th>\n",
       "      <td>NaN</td>\n",
       "      <td>D4</td>\n",
       "      <td>憂鬱</td>\n",
       "      <td>melancholy</td>\n",
       "    </tr>\n",
       "    <tr>\n",
       "      <th>26</th>\n",
       "      <td>NaN</td>\n",
       "      <td>D5</td>\n",
       "      <td>がっかり</td>\n",
       "      <td>disappointed</td>\n",
       "    </tr>\n",
       "  </tbody>\n",
       "</table>\n",
       "</div>"
      ],
      "text/plain": [
       "          types file_name orignal_form English_translation\n",
       "22  #Depression        D1           孤独          loneliness\n",
       "23          NaN        D2          不幸だ             unhappy\n",
       "24          NaN        D3          悲しく               sadly\n",
       "25          NaN        D4           憂鬱          melancholy\n",
       "26          NaN        D5         がっかり        disappointed"
      ]
     },
     "execution_count": 422,
     "metadata": {},
     "output_type": "execute_result"
    }
   ],
   "source": [
    "# Drop nan and False in order to use query \n",
    "booleanDictionary = {True: 'TRUE', False: 'FALSE'}\n",
    "words = words.replace(booleanDictionary)\n",
    "words = words.dropna(how='all')\n",
    "\n",
    "df_c = words.query('file_name.str.contains(\"D\")', engine='python')\n",
    "df_c.head()"
   ]
  },
  {
   "cell_type": "markdown",
   "metadata": {},
   "source": [
    "## extract data which includee keyword"
   ]
  },
  {
   "cell_type": "code",
   "execution_count": 425,
   "metadata": {},
   "outputs": [
    {
     "data": {
      "text/html": [
       "<div>\n",
       "<style scoped>\n",
       "    .dataframe tbody tr th:only-of-type {\n",
       "        vertical-align: middle;\n",
       "    }\n",
       "\n",
       "    .dataframe tbody tr th {\n",
       "        vertical-align: top;\n",
       "    }\n",
       "\n",
       "    .dataframe thead th {\n",
       "        text-align: right;\n",
       "    }\n",
       "</style>\n",
       "<table border=\"1\" class=\"dataframe\">\n",
       "  <thead>\n",
       "    <tr style=\"text-align: right;\">\n",
       "      <th></th>\n",
       "      <th>date</th>\n",
       "      <th>tweet</th>\n",
       "      <th>year</th>\n",
       "      <th>month</th>\n",
       "      <th>day</th>\n",
       "      <th>hour</th>\n",
       "      <th>RT_flag</th>\n",
       "    </tr>\n",
       "  </thead>\n",
       "  <tbody>\n",
       "    <tr>\n",
       "      <th>2</th>\n",
       "      <td>2020-02-29 14:59:58</td>\n",
       "      <td>長期的にはジャイロに慣れた方が良いんだけど、今回の大会しか見てないのかなってちょっと悲しくなった</td>\n",
       "      <td>2020</td>\n",
       "      <td>2</td>\n",
       "      <td>29</td>\n",
       "      <td>14</td>\n",
       "      <td>False</td>\n",
       "    </tr>\n",
       "    <tr>\n",
       "      <th>5</th>\n",
       "      <td>2020-02-29 14:59:58</td>\n",
       "      <td>フェルナンドと遊ぼう\\n・華麗なるフェルナンド\\n・フェルナンドの憂鬱\\n・翔べフェルナンド...</td>\n",
       "      <td>2020</td>\n",
       "      <td>2</td>\n",
       "      <td>29</td>\n",
       "      <td>14</td>\n",
       "      <td>False</td>\n",
       "    </tr>\n",
       "    <tr>\n",
       "      <th>10</th>\n",
       "      <td>2020-02-29 14:59:58</td>\n",
       "      <td>@takukuroneko BLEEDは1の哀しいストーリーを見事に表現してるところが良いで...</td>\n",
       "      <td>2020</td>\n",
       "      <td>2</td>\n",
       "      <td>29</td>\n",
       "      <td>14</td>\n",
       "      <td>False</td>\n",
       "    </tr>\n",
       "    <tr>\n",
       "      <th>16</th>\n",
       "      <td>2020-02-29 14:59:58</td>\n",
       "      <td>最近まためみたんロスが来ててこの曲聞くとなんか悲しくなる https://t.co/yuaW...</td>\n",
       "      <td>2020</td>\n",
       "      <td>2</td>\n",
       "      <td>29</td>\n",
       "      <td>14</td>\n",
       "      <td>False</td>\n",
       "    </tr>\n",
       "    <tr>\n",
       "      <th>36</th>\n",
       "      <td>2020-02-29 14:59:56</td>\n",
       "      <td>@irohasujo_ 寂しがり屋で構ってちゃんでしょうか……\\nそれに値しないことすら気づ...</td>\n",
       "      <td>2020</td>\n",
       "      <td>2</td>\n",
       "      <td>29</td>\n",
       "      <td>14</td>\n",
       "      <td>False</td>\n",
       "    </tr>\n",
       "  </tbody>\n",
       "</table>\n",
       "</div>"
      ],
      "text/plain": [
       "                  date                                              tweet  \\\n",
       "2  2020-02-29 14:59:58   長期的にはジャイロに慣れた方が良いんだけど、今回の大会しか見てないのかなってちょっと悲しくなった   \n",
       "5  2020-02-29 14:59:58  フェルナンドと遊ぼう\\n・華麗なるフェルナンド\\n・フェルナンドの憂鬱\\n・翔べフェルナンド...   \n",
       "10 2020-02-29 14:59:58  @takukuroneko BLEEDは1の哀しいストーリーを見事に表現してるところが良いで...   \n",
       "16 2020-02-29 14:59:58  最近まためみたんロスが来ててこの曲聞くとなんか悲しくなる https://t.co/yuaW...   \n",
       "36 2020-02-29 14:59:56  @irohasujo_ 寂しがり屋で構ってちゃんでしょうか……\\nそれに値しないことすら気づ...   \n",
       "\n",
       "    year  month  day  hour  RT_flag  \n",
       "2   2020      2   29    14    False  \n",
       "5   2020      2   29    14    False  \n",
       "10  2020      2   29    14    False  \n",
       "16  2020      2   29    14    False  \n",
       "36  2020      2   29    14    False  "
      ]
     },
     "execution_count": 425,
     "metadata": {},
     "output_type": "execute_result"
    }
   ],
   "source": [
    "keyword_jp = df_c.orignal_form.tolist()\n",
    "df_d_query = dfor[dfor['tweet'].str.contains('|'.join(keyword_jp))]\n",
    "df_d_query.head()"
   ]
  },
  {
   "cell_type": "code",
   "execution_count": null,
   "metadata": {},
   "outputs": [],
   "source": []
  },
  {
   "cell_type": "code",
   "execution_count": null,
   "metadata": {},
   "outputs": [],
   "source": []
  },
  {
   "cell_type": "code",
   "execution_count": null,
   "metadata": {},
   "outputs": [],
   "source": []
  },
  {
   "cell_type": "code",
   "execution_count": null,
   "metadata": {},
   "outputs": [],
   "source": []
  },
  {
   "cell_type": "code",
   "execution_count": null,
   "metadata": {},
   "outputs": [],
   "source": []
  },
  {
   "cell_type": "code",
   "execution_count": null,
   "metadata": {},
   "outputs": [],
   "source": []
  },
  {
   "cell_type": "code",
   "execution_count": null,
   "metadata": {},
   "outputs": [],
   "source": []
  },
  {
   "cell_type": "code",
   "execution_count": null,
   "metadata": {},
   "outputs": [],
   "source": []
  },
  {
   "cell_type": "code",
   "execution_count": null,
   "metadata": {},
   "outputs": [],
   "source": []
  },
  {
   "cell_type": "code",
   "execution_count": null,
   "metadata": {},
   "outputs": [],
   "source": []
  },
  {
   "cell_type": "code",
   "execution_count": null,
   "metadata": {},
   "outputs": [],
   "source": []
  },
  {
   "cell_type": "code",
   "execution_count": 284,
   "metadata": {},
   "outputs": [
    {
     "name": "stdout",
     "output_type": "stream",
     "text": [
      "True\n"
     ]
    },
    {
     "data": {
      "text/plain": [
       "True"
      ]
     },
     "execution_count": 284,
     "metadata": {},
     "output_type": "execute_result"
    }
   ],
   "source": [
    "l1 = '@ss_ars_42 ちょっと面白すぎて笑ったwwwww\\nくらこかわいいねえ！！！！！！！'\n",
    "l2 = ('面白')\n",
    "l3 = [0, 1, 5]\n",
    "l4 = [5, 6, 7]\n",
    "\n",
    "print(set(l2) <= set(l1))\n",
    "set(l1).isdisjoint(set(l4))"
   ]
  },
  {
   "cell_type": "code",
   "execution_count": null,
   "metadata": {},
   "outputs": [],
   "source": [
    "# words\n",
    "# words_types = [x for x in  words.types.unique() if x == x]\n",
    "# filenames = [x for x in  words['file_name'].unique() if x == x]\n",
    "# oforms = [x for x in  words['orignal_form'].unique() if x == x]"
   ]
  },
  {
   "cell_type": "code",
   "execution_count": null,
   "metadata": {},
   "outputs": [],
   "source": [
    "dfor.query('tweet.str.contains(\"です|ジャイロ|w|富野\")', engine='python')"
   ]
  }
 ],
 "metadata": {
  "kernelspec": {
   "display_name": "Python 3",
   "language": "python",
   "name": "python3"
  },
  "language_info": {
   "codemirror_mode": {
    "name": "ipython",
    "version": 3
   },
   "file_extension": ".py",
   "mimetype": "text/x-python",
   "name": "python",
   "nbconvert_exporter": "python",
   "pygments_lexer": "ipython3",
   "version": "3.6.9"
  }
 },
 "nbformat": 4,
 "nbformat_minor": 4
}
